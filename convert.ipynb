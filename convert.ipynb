{
 "cells": [
  {
   "cell_type": "code",
   "execution_count": 1,
   "metadata": {},
   "outputs": [],
   "source": [
    "import moviepy"
   ]
  },
  {
   "cell_type": "code",
   "execution_count": 2,
   "metadata": {},
   "outputs": [],
   "source": [
    "from moviepy.editor import VideoFileClip"
   ]
  },
  {
   "cell_type": "code",
   "execution_count": null,
   "metadata": {},
   "outputs": [],
   "source": [
    "videoClip = VideoFileClip(\"./media/vids/four.webm\")"
   ]
  },
  {
   "cell_type": "code",
   "execution_count": null,
   "metadata": {},
   "outputs": [],
   "source": [
    "videoClip.write_gif(\"four.gif\", fps=10)"
   ]
  },
  {
   "cell_type": "code",
   "execution_count": 4,
   "metadata": {},
   "outputs": [
    {
     "name": "stdout",
     "output_type": "stream",
     "text": [
      "MoviePy - Building file eg_1.gif with imageio.\n"
     ]
    },
    {
     "name": "stderr",
     "output_type": "stream",
     "text": [
      "                                                            \r"
     ]
    },
    {
     "name": "stdout",
     "output_type": "stream",
     "text": [
      "MoviePy - Building file eg_2.gif with imageio.\n"
     ]
    },
    {
     "name": "stderr",
     "output_type": "stream",
     "text": [
      "                                                            \r"
     ]
    }
   ],
   "source": [
    "# Import everything needed to edit video clips \n",
    "from moviepy.editor import *\n",
    "\n",
    "# loading video gfg \n",
    "clip = VideoFileClip(\"./media/vids/eg_1.webm\") \n",
    "\n",
    "\n",
    "# applying speed effect \n",
    "final = clip.fx( vfx.speedx, 2) \n",
    "\n",
    "final.write_gif(\"eg_1.gif\", fps=5)\n",
    "\n",
    "\n",
    "# loading video gfg \n",
    "clip = VideoFileClip(\"./media/vids/eg_2.webm\") \n",
    "\n",
    "\n",
    "# applying speed effect \n",
    "final = clip.fx( vfx.speedx, 5) \n",
    "\n",
    "final.write_gif(\"eg_2.gif\", fps=10)\n",
    "\n",
    "# # showing final clip \n",
    "# final.ipython_display() \n"
   ]
  },
  {
   "cell_type": "code",
   "execution_count": null,
   "metadata": {},
   "outputs": [],
   "source": []
  }
 ],
 "metadata": {
  "kernelspec": {
   "display_name": "QCNet",
   "language": "python",
   "name": "python3"
  },
  "language_info": {
   "codemirror_mode": {
    "name": "ipython",
    "version": 3
   },
   "file_extension": ".py",
   "mimetype": "text/x-python",
   "name": "python",
   "nbconvert_exporter": "python",
   "pygments_lexer": "ipython3",
   "version": "3.8.16"
  }
 },
 "nbformat": 4,
 "nbformat_minor": 2
}
