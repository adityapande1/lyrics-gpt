{
 "cells": [
  {
   "cell_type": "markdown",
   "metadata": {},
   "source": [
    "_____________________\n",
    "# ABOUT\n",
    "_____________________"
   ]
  },
  {
   "cell_type": "markdown",
   "metadata": {},
   "source": [
    "#### In this notebook you can see and experiment with our pretrained model\n",
    "#### The project is HEAVILY INSPIRED from Andrej Karpathy's MiniGPT implementation\n",
    "#### The lisence info can be  found in the file : LISENCE"
   ]
  },
  {
   "cell_type": "markdown",
   "metadata": {},
   "source": [
    "_____________________\n",
    "# IMPORTS & SETUP\n",
    "_____________________"
   ]
  },
  {
   "cell_type": "code",
   "execution_count": null,
   "metadata": {},
   "outputs": [],
   "source": [
    "# Set seeds for all modules\n",
    "from src.utils import set_seed, predict_in_a_cool_way\n",
    "\n",
    "set_seed(42)\n",
    "\n",
    "import torch\n",
    "from torch.nn import functional as F\n",
    "\n",
    "from src.dataset import CharDataset\n",
    "from src.model import GPT, GPTConfig\n",
    "from src.trainer import Trainer, TrainerConfig\n"
   ]
  },
  {
   "cell_type": "markdown",
   "metadata": {},
   "source": [
    "_____________________\n",
    "# MODEL\n",
    "Setup the model\n",
    "_____________________"
   ]
  },
  {
   "cell_type": "code",
   "execution_count": null,
   "metadata": {},
   "outputs": [],
   "source": [
    "block_size = 128 # Maximum context length allowed\n",
    "\n",
    "train_text = open('./data/train.txt', 'r').read() \n",
    "test_text  = open('./data/test.txt' , 'r').read() \n",
    "\n",
    "train_dataset = CharDataset(train_text, block_size) \n",
    "test_dataset = CharDataset(test_text, block_size) \n",
    "\n",
    "mconf = GPTConfig(train_dataset.vocab_size, train_dataset.block_size, n_layer=8, n_head=8, n_embd=512)\n",
    "model = GPT(mconf)\n",
    "\n",
    "# Training Configuration & trainer_config\n",
    "trainer_config = TrainerConfig(max_epochs=5, batch_size=128, learning_rate=6e-4, lr_decay=True, warmup_tokens=512*20,       # Trainer configuration\n",
    "                               final_tokens=2*len(train_dataset)*block_size, num_workers=4, ckpt_path=None)\n",
    "\n",
    "trainer = Trainer(model=model, train_dataset=train_dataset, test_dataset=test_dataset, config =trainer_config)              # Trainer object\n",
    "\n",
    "print(\"\\nTHE MODEL IS LOADED SUCCESSFULLY\")\n",
    "model.load_state_dict(torch.load('./models/our_trained_model.pt'))\n"
   ]
  },
  {
   "cell_type": "markdown",
   "metadata": {},
   "source": [
    "_____________________\n",
    "# INFERENCE for our model\n",
    "The best model checkpoint is saved at 'models' folder, correspontding to the specific date and time at which the model was made\n",
    "_____________________"
   ]
  },
  {
   "cell_type": "code",
   "execution_count": 8,
   "metadata": {},
   "outputs": [
    {
     "name": "stdout",
     "output_type": "stream",
     "text": [
      "Agar tum saath hojab apne ... la la la.\n",
      "Duniya ko dikha denge ... la la la.\n",
      "Hum maut ko jeene ke ... la la la.\n",
      "Andaaz sikha denge ... la la la.\n",
      "Hum toh hai dilwale.\n",
      "Khanjar se nahi marte.\n",
      "Arre hum toh hai dilwale.\n",
      "Khanjar se nahi marte.\n",
      "Marte dam tak hum tamba.\n",
      "Tamba tamba ... tamba tamba.\n",
      "\n",
      "Jeena hai toh jag mein jeeyo.\n",
      "Banke tambai jeeyo o meri jaan.\n",
      "Haan haan haan jeena hai teri baahon mein so ja.\n",
      "Tu hai meri har khushi, meri har saans mein hai.\n",
      "Magar saans banke mera saath tu hi hai.\n",
      "Is liye toh haseen lagti hai dooriyan.\n",
      "Haan haan haan main jitni martaba.\n",
      "Tujhe hoon dekhta.\n",
      "Yeh lagta hai mujhe.\n",
      "Haan haan haan tujhe hi dekh ke.\n",
      "Meri saansein chura le.\n",
      "Teri aankhon ka main deewana hoon.\n",
      "\n",
      "Aaja, aaja, aaja.\n",
      "Aaja, aaja ... aaja, aaja ... aaja, aaja.\n",
      "Aaja, aaja ... aaja, aaja ... aaja, aaja ... aaja.\n",
      "\n",
      "Kya h"
     ]
    }
   ],
   "source": [
    "# Please enter the context for the lyric generation, you can also change the output length below\n",
    "context = 'Agar tum saath ho'\n",
    "\n",
    "predict_in_a_cool_way(context=context, train_dataset=train_dataset, model=model, trainer=trainer, output_len=800)"
   ]
  },
  {
   "cell_type": "markdown",
   "metadata": {},
   "source": []
  },
  {
   "cell_type": "code",
   "execution_count": null,
   "metadata": {},
   "outputs": [],
   "source": []
  },
  {
   "cell_type": "code",
   "execution_count": null,
   "metadata": {},
   "outputs": [],
   "source": []
  },
  {
   "cell_type": "code",
   "execution_count": null,
   "metadata": {},
   "outputs": [],
   "source": []
  },
  {
   "cell_type": "code",
   "execution_count": null,
   "metadata": {},
   "outputs": [],
   "source": []
  },
  {
   "cell_type": "code",
   "execution_count": null,
   "metadata": {},
   "outputs": [],
   "source": []
  },
  {
   "cell_type": "code",
   "execution_count": null,
   "metadata": {},
   "outputs": [],
   "source": []
  },
  {
   "cell_type": "code",
   "execution_count": null,
   "metadata": {},
   "outputs": [],
   "source": []
  },
  {
   "cell_type": "code",
   "execution_count": null,
   "metadata": {},
   "outputs": [],
   "source": []
  },
  {
   "cell_type": "code",
   "execution_count": null,
   "metadata": {},
   "outputs": [],
   "source": []
  },
  {
   "cell_type": "code",
   "execution_count": null,
   "metadata": {},
   "outputs": [],
   "source": []
  },
  {
   "cell_type": "code",
   "execution_count": null,
   "metadata": {},
   "outputs": [],
   "source": []
  },
  {
   "cell_type": "markdown",
   "metadata": {},
   "source": [
    "_________________________________\n",
    "# <center>THANK YOU</center>\n",
    "_________________________________\n"
   ]
  },
  {
   "cell_type": "markdown",
   "metadata": {},
   "source": []
  }
 ],
 "metadata": {
  "kernelspec": {
   "display_name": "Python 3",
   "language": "python",
   "name": "python3"
  },
  "language_info": {
   "codemirror_mode": {
    "name": "ipython",
    "version": 3
   },
   "file_extension": ".py",
   "mimetype": "text/x-python",
   "name": "python",
   "nbconvert_exporter": "python",
   "pygments_lexer": "ipython3",
   "version": "3.8.16"
  }
 },
 "nbformat": 4,
 "nbformat_minor": 4
}
